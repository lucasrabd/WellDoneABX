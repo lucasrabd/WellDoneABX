{
  "nbformat": 4,
  "nbformat_minor": 0,
  "metadata": {
    "colab": {
      "provenance": [],
      "include_colab_link": true
    },
    "kernelspec": {
      "name": "python3",
      "display_name": "Python 3"
    },
    "language_info": {
      "name": "python"
    }
  },
  "cells": [
    {
      "cell_type": "markdown",
      "metadata": {
        "id": "view-in-github",
        "colab_type": "text"
      },
      "source": [
        "<a href=\"https://colab.research.google.com/github/lucasrabd/WellDoneABX/blob/main/ABX_ANALISE_GP_WINK.ipynb\" target=\"_parent\"><img src=\"https://colab.research.google.com/assets/colab-badge.svg\" alt=\"Open In Colab\"/></a>"
      ]
    },
    {
      "cell_type": "markdown",
      "source": [
        "# Importando bibliotecas necessárias para o funcionamento do código.\n",
        "\n",
        "Importa bibliotecas essenciais para manipulação de dados (pandas), visualização (matplotlib, seaborn), modelagem e avaliação de modelos de machine learning (sklearn), e operações numéricas (numpy). joblib é usada para salvar e carregar modelos treinados."
      ],
      "metadata": {
        "id": "333W1C7NyQmi"
      }
    },
    {
      "cell_type": "code",
      "execution_count": 1,
      "metadata": {
        "id": "OvtynSpWyN0Y"
      },
      "outputs": [],
      "source": [
        "import pandas as pd\n",
        "import matplotlib.pyplot as plt\n",
        "import seaborn as sns\n",
        "from sklearn.model_selection import train_test_split\n",
        "from sklearn.linear_model import LogisticRegression\n",
        "from sklearn.metrics import accuracy_score, confusion_matrix, classification_report\n",
        "import numpy as np\n",
        "import joblib"
      ]
    },
    {
      "cell_type": "markdown",
      "source": [
        "# Carregando os dados.\n",
        "\n",
        "Carrega um arquivo CSV contendo os dados das solicitações de crédito para um DataFrame do pandas."
      ],
      "metadata": {
        "id": "6pJzroYFyZ9q"
      }
    },
    {
      "cell_type": "code",
      "source": [
        "df = pd.read_csv('/content/solicitacoescredito.csv')"
      ],
      "metadata": {
        "id": "OpLkXKJMyaTR"
      },
      "execution_count": null,
      "outputs": []
    },
    {
      "cell_type": "markdown",
      "source": [
        "# Verificando o número de linhas e colunas\n",
        "\n",
        "Imprime o número de linhas e colunas do DataFrame para fornecer uma visão geral do tamanho do conjunto de dados.\n"
      ],
      "metadata": {
        "id": "oatAkiqsydB5"
      }
    },
    {
      "cell_type": "code",
      "source": [
        "print(\"Número de linhas e colunas:\", df.shape)"
      ],
      "metadata": {
        "colab": {
          "base_uri": "https://localhost:8080/"
        },
        "id": "kB6hdPmYydUR",
        "outputId": "09daec6c-8d91-4b83-b9a6-a494ecddd7e7"
      },
      "execution_count": null,
      "outputs": [
        {
          "output_type": "stream",
          "name": "stdout",
          "text": [
            "Número de linhas e colunas: (8973, 38)\n"
          ]
        }
      ]
    },
    {
      "cell_type": "markdown",
      "source": [
        "# Verificando as informações sobre as colunas\n",
        "\n",
        "Exibe informações detalhadas sobre o DataFrame, incluindo tipos de dados de cada coluna e a contagem de valores não nulos, ajudando a entender a estrutura dos dados."
      ],
      "metadata": {
        "id": "_zB0tEFAyfR5"
      }
    },
    {
      "cell_type": "code",
      "source": [
        "df.info()"
      ],
      "metadata": {
        "colab": {
          "base_uri": "https://localhost:8080/"
        },
        "id": "IhuzPZRsygcZ",
        "outputId": "0c135b4e-b9d7-4d49-dd0d-e1560b9301fc"
      },
      "execution_count": null,
      "outputs": [
        {
          "output_type": "stream",
          "name": "stdout",
          "text": [
            "<class 'pandas.core.frame.DataFrame'>\n",
            "RangeIndex: 8973 entries, 0 to 8972\n",
            "Data columns (total 38 columns):\n",
            " #   Column                       Non-Null Count  Dtype  \n",
            "---  ------                       --------------  -----  \n",
            " 0   numero_solicitacao           8973 non-null   int64  \n",
            " 1   razaoSocial                  8973 non-null   object \n",
            " 2   nomeFantasia                 8973 non-null   object \n",
            " 3   cnpjSemTraco                 8973 non-null   object \n",
            " 4   maiorAtraso                  8973 non-null   int64  \n",
            " 5   margemBrutaAcumulada         8973 non-null   float64\n",
            " 6   percentualProtestos          7475 non-null   float64\n",
            " 7   primeiraCompra               8867 non-null   object \n",
            " 8   prazoMedioRecebimentoVendas  8973 non-null   int64  \n",
            " 9   titulosEmAberto              8973 non-null   float64\n",
            " 10  valorSolicitado              8973 non-null   float64\n",
            " 11  status                       8973 non-null   object \n",
            " 12  definicaoRisco               8973 non-null   object \n",
            " 13  diferencaPercentualRisco     8973 non-null   float64\n",
            " 14  percentualRisco              8973 non-null   float64\n",
            " 15  dashboardCorrelacao          8973 non-null   float64\n",
            " 16  valorAprovado                7569 non-null   float64\n",
            " 17  dataAprovadoEmComite         558 non-null    object \n",
            " 18  periodoBalanco               4733 non-null   object \n",
            " 19  ativoCirculante              4733 non-null   float64\n",
            " 20  passivoCirculante            4733 non-null   float64\n",
            " 21  totalAtivo                   4733 non-null   float64\n",
            " 22  totalPatrimonioLiquido       4733 non-null   float64\n",
            " 23  endividamento                4733 non-null   float64\n",
            " 24  duplicatasAReceber           4733 non-null   float64\n",
            " 25  estoque                      4733 non-null   float64\n",
            " 26  faturamentoBruto             8223 non-null   float64\n",
            " 27  margemBruta                  8223 non-null   float64\n",
            " 28  periodoDemonstrativoEmMeses  8223 non-null   float64\n",
            " 29  custos                       8223 non-null   float64\n",
            " 30  anoFundacao                  8228 non-null   float64\n",
            " 31  intervaloFundacao            8228 non-null   object \n",
            " 32  capitalSocial                8228 non-null   float64\n",
            " 33  restricoes                   8228 non-null   object \n",
            " 34  empresa_MeEppMei             8228 non-null   object \n",
            " 35  scorePontualidade            8973 non-null   float64\n",
            " 36  limiteEmpresaAnaliseCredito  8228 non-null   float64\n",
            " 37  dataAprovadoNivelAnalista    7011 non-null   object \n",
            "dtypes: float64(23), int64(3), object(12)\n",
            "memory usage: 2.6+ MB\n"
          ]
        }
      ]
    },
    {
      "cell_type": "markdown",
      "source": [
        "# Verificando as estatísticas descritivas das variáveis numéricas\n",
        "\n",
        "Mostra estatísticas descritivas das colunas numéricas, como média, desvio padrão, valores mínimos e máximos, para uma análise inicial dos dados."
      ],
      "metadata": {
        "id": "RX5hNEsVyicp"
      }
    },
    {
      "cell_type": "code",
      "source": [
        "df.describe()"
      ],
      "metadata": {
        "colab": {
          "base_uri": "https://localhost:8080/",
          "height": 350
        },
        "id": "YB2DNxvGyisZ",
        "outputId": "a22238d2-65a8-439f-bb81-347ed406df23"
      },
      "execution_count": null,
      "outputs": [
        {
          "output_type": "execute_result",
          "data": {
            "text/plain": [
              "       numero_solicitacao  maiorAtraso  margemBrutaAcumulada  \\\n",
              "count         8973.000000  8973.000000           8973.000000   \n",
              "mean          4550.042015    24.642594              0.362176   \n",
              "std           2603.485853    66.180793              0.201455   \n",
              "min              1.000000     0.000000              0.000000   \n",
              "25%           2316.000000     3.000000              0.281395   \n",
              "50%           4559.000000     6.000000              0.402895   \n",
              "75%           6802.000000    22.000000              0.507860   \n",
              "max           9045.000000  1265.000000              1.000000   \n",
              "\n",
              "       percentualProtestos  prazoMedioRecebimentoVendas  titulosEmAberto  \\\n",
              "count          7475.000000                  8973.000000     8.973000e+03   \n",
              "mean              0.019260                    23.083027     6.487101e+04   \n",
              "std               0.593579                    68.177649     2.482852e+05   \n",
              "min               0.000000                     0.000000     0.000000e+00   \n",
              "25%               0.000000                     0.000000     0.000000e+00   \n",
              "50%               0.000000                     0.000000     0.000000e+00   \n",
              "75%               0.000000                    30.000000     1.725000e+04   \n",
              "max              36.983728                  1605.000000     3.938590e+06   \n",
              "\n",
              "       valorSolicitado  diferencaPercentualRisco  percentualRisco  \\\n",
              "count     8.973000e+03               8973.000000      8973.000000   \n",
              "mean      7.492436e+05                  0.750321         0.249679   \n",
              "std       2.261875e+07                  0.146058         0.146058   \n",
              "min       1.000000e+02                  0.207547         0.000000   \n",
              "25%       2.500000e+04                  0.642857         0.142857   \n",
              "50%       5.000000e+04                  0.750000         0.250000   \n",
              "75%       1.200000e+05                  0.857143         0.357143   \n",
              "max       1.500000e+09                  1.000000         0.792453   \n",
              "\n",
              "       dashboardCorrelacao  ...  duplicatasAReceber       estoque  \\\n",
              "count          8973.000000  ...        4.733000e+03  4.733000e+03   \n",
              "mean              0.047236  ...        1.663397e+07  1.523956e+07   \n",
              "std               0.472476  ...        2.979029e+08  8.383792e+07   \n",
              "min              -0.999990  ...       -2.278071e+07 -2.632260e+05   \n",
              "25%               0.000000  ...        3.920500e+04  1.712860e+05   \n",
              "50%               0.000000  ...        1.088164e+06  1.063783e+06   \n",
              "75%               0.000000  ...        6.576243e+06  5.493839e+06   \n",
              "max               0.999990  ...        2.009358e+10  1.293428e+09   \n",
              "\n",
              "       faturamentoBruto   margemBruta  periodoDemonstrativoEmMeses  \\\n",
              "count      8.223000e+03  8.223000e+03                  8223.000000   \n",
              "mean       5.597420e+07  1.620988e+07                    10.377356   \n",
              "std        3.344357e+08  1.163482e+08                     3.220965   \n",
              "min        0.000000e+00 -6.148721e+08                     1.000000   \n",
              "25%        1.191995e+06  0.000000e+00                    11.000000   \n",
              "50%        3.599483e+06  0.000000e+00                    12.000000   \n",
              "75%        1.584222e+07  3.357474e+06                    12.000000   \n",
              "max        6.426115e+09  3.366843e+09                    12.000000   \n",
              "\n",
              "             custos  anoFundacao  capitalSocial  scorePontualidade  \\\n",
              "count  8.223000e+03  8228.000000   8.228000e+03        8973.000000   \n",
              "mean   2.839061e+07  2006.027467   1.121453e+07           0.798346   \n",
              "std    2.072148e+08    19.424120   9.742853e+07           0.379186   \n",
              "min   -3.466338e+08  1000.000000   0.000000e+00           0.000000   \n",
              "25%    0.000000e+00  2000.000000   5.000000e+04           0.887479   \n",
              "50%    0.000000e+00  2009.000000   1.000000e+05           1.000000   \n",
              "75%    4.520907e+06  2015.000000   5.000000e+05           1.000000   \n",
              "max    4.393536e+09  2020.000000   4.100000e+09           1.000000   \n",
              "\n",
              "       limiteEmpresaAnaliseCredito  \n",
              "count                 8.228000e+03  \n",
              "mean                  2.851017e+06  \n",
              "std                   2.672324e+07  \n",
              "min                   0.000000e+00  \n",
              "25%                   7.360000e+03  \n",
              "50%                   4.860000e+04  \n",
              "75%                   3.450000e+05  \n",
              "max                   1.974261e+09  \n",
              "\n",
              "[8 rows x 26 columns]"
            ],
            "text/html": [
              "\n",
              "  <div id=\"df-01a077dc-03d5-4603-84aa-a76d59360942\" class=\"colab-df-container\">\n",
              "    <div>\n",
              "<style scoped>\n",
              "    .dataframe tbody tr th:only-of-type {\n",
              "        vertical-align: middle;\n",
              "    }\n",
              "\n",
              "    .dataframe tbody tr th {\n",
              "        vertical-align: top;\n",
              "    }\n",
              "\n",
              "    .dataframe thead th {\n",
              "        text-align: right;\n",
              "    }\n",
              "</style>\n",
              "<table border=\"1\" class=\"dataframe\">\n",
              "  <thead>\n",
              "    <tr style=\"text-align: right;\">\n",
              "      <th></th>\n",
              "      <th>numero_solicitacao</th>\n",
              "      <th>maiorAtraso</th>\n",
              "      <th>margemBrutaAcumulada</th>\n",
              "      <th>percentualProtestos</th>\n",
              "      <th>prazoMedioRecebimentoVendas</th>\n",
              "      <th>titulosEmAberto</th>\n",
              "      <th>valorSolicitado</th>\n",
              "      <th>diferencaPercentualRisco</th>\n",
              "      <th>percentualRisco</th>\n",
              "      <th>dashboardCorrelacao</th>\n",
              "      <th>...</th>\n",
              "      <th>duplicatasAReceber</th>\n",
              "      <th>estoque</th>\n",
              "      <th>faturamentoBruto</th>\n",
              "      <th>margemBruta</th>\n",
              "      <th>periodoDemonstrativoEmMeses</th>\n",
              "      <th>custos</th>\n",
              "      <th>anoFundacao</th>\n",
              "      <th>capitalSocial</th>\n",
              "      <th>scorePontualidade</th>\n",
              "      <th>limiteEmpresaAnaliseCredito</th>\n",
              "    </tr>\n",
              "  </thead>\n",
              "  <tbody>\n",
              "    <tr>\n",
              "      <th>count</th>\n",
              "      <td>8973.000000</td>\n",
              "      <td>8973.000000</td>\n",
              "      <td>8973.000000</td>\n",
              "      <td>7475.000000</td>\n",
              "      <td>8973.000000</td>\n",
              "      <td>8.973000e+03</td>\n",
              "      <td>8.973000e+03</td>\n",
              "      <td>8973.000000</td>\n",
              "      <td>8973.000000</td>\n",
              "      <td>8973.000000</td>\n",
              "      <td>...</td>\n",
              "      <td>4.733000e+03</td>\n",
              "      <td>4.733000e+03</td>\n",
              "      <td>8.223000e+03</td>\n",
              "      <td>8.223000e+03</td>\n",
              "      <td>8223.000000</td>\n",
              "      <td>8.223000e+03</td>\n",
              "      <td>8228.000000</td>\n",
              "      <td>8.228000e+03</td>\n",
              "      <td>8973.000000</td>\n",
              "      <td>8.228000e+03</td>\n",
              "    </tr>\n",
              "    <tr>\n",
              "      <th>mean</th>\n",
              "      <td>4550.042015</td>\n",
              "      <td>24.642594</td>\n",
              "      <td>0.362176</td>\n",
              "      <td>0.019260</td>\n",
              "      <td>23.083027</td>\n",
              "      <td>6.487101e+04</td>\n",
              "      <td>7.492436e+05</td>\n",
              "      <td>0.750321</td>\n",
              "      <td>0.249679</td>\n",
              "      <td>0.047236</td>\n",
              "      <td>...</td>\n",
              "      <td>1.663397e+07</td>\n",
              "      <td>1.523956e+07</td>\n",
              "      <td>5.597420e+07</td>\n",
              "      <td>1.620988e+07</td>\n",
              "      <td>10.377356</td>\n",
              "      <td>2.839061e+07</td>\n",
              "      <td>2006.027467</td>\n",
              "      <td>1.121453e+07</td>\n",
              "      <td>0.798346</td>\n",
              "      <td>2.851017e+06</td>\n",
              "    </tr>\n",
              "    <tr>\n",
              "      <th>std</th>\n",
              "      <td>2603.485853</td>\n",
              "      <td>66.180793</td>\n",
              "      <td>0.201455</td>\n",
              "      <td>0.593579</td>\n",
              "      <td>68.177649</td>\n",
              "      <td>2.482852e+05</td>\n",
              "      <td>2.261875e+07</td>\n",
              "      <td>0.146058</td>\n",
              "      <td>0.146058</td>\n",
              "      <td>0.472476</td>\n",
              "      <td>...</td>\n",
              "      <td>2.979029e+08</td>\n",
              "      <td>8.383792e+07</td>\n",
              "      <td>3.344357e+08</td>\n",
              "      <td>1.163482e+08</td>\n",
              "      <td>3.220965</td>\n",
              "      <td>2.072148e+08</td>\n",
              "      <td>19.424120</td>\n",
              "      <td>9.742853e+07</td>\n",
              "      <td>0.379186</td>\n",
              "      <td>2.672324e+07</td>\n",
              "    </tr>\n",
              "    <tr>\n",
              "      <th>min</th>\n",
              "      <td>1.000000</td>\n",
              "      <td>0.000000</td>\n",
              "      <td>0.000000</td>\n",
              "      <td>0.000000</td>\n",
              "      <td>0.000000</td>\n",
              "      <td>0.000000e+00</td>\n",
              "      <td>1.000000e+02</td>\n",
              "      <td>0.207547</td>\n",
              "      <td>0.000000</td>\n",
              "      <td>-0.999990</td>\n",
              "      <td>...</td>\n",
              "      <td>-2.278071e+07</td>\n",
              "      <td>-2.632260e+05</td>\n",
              "      <td>0.000000e+00</td>\n",
              "      <td>-6.148721e+08</td>\n",
              "      <td>1.000000</td>\n",
              "      <td>-3.466338e+08</td>\n",
              "      <td>1000.000000</td>\n",
              "      <td>0.000000e+00</td>\n",
              "      <td>0.000000</td>\n",
              "      <td>0.000000e+00</td>\n",
              "    </tr>\n",
              "    <tr>\n",
              "      <th>25%</th>\n",
              "      <td>2316.000000</td>\n",
              "      <td>3.000000</td>\n",
              "      <td>0.281395</td>\n",
              "      <td>0.000000</td>\n",
              "      <td>0.000000</td>\n",
              "      <td>0.000000e+00</td>\n",
              "      <td>2.500000e+04</td>\n",
              "      <td>0.642857</td>\n",
              "      <td>0.142857</td>\n",
              "      <td>0.000000</td>\n",
              "      <td>...</td>\n",
              "      <td>3.920500e+04</td>\n",
              "      <td>1.712860e+05</td>\n",
              "      <td>1.191995e+06</td>\n",
              "      <td>0.000000e+00</td>\n",
              "      <td>11.000000</td>\n",
              "      <td>0.000000e+00</td>\n",
              "      <td>2000.000000</td>\n",
              "      <td>5.000000e+04</td>\n",
              "      <td>0.887479</td>\n",
              "      <td>7.360000e+03</td>\n",
              "    </tr>\n",
              "    <tr>\n",
              "      <th>50%</th>\n",
              "      <td>4559.000000</td>\n",
              "      <td>6.000000</td>\n",
              "      <td>0.402895</td>\n",
              "      <td>0.000000</td>\n",
              "      <td>0.000000</td>\n",
              "      <td>0.000000e+00</td>\n",
              "      <td>5.000000e+04</td>\n",
              "      <td>0.750000</td>\n",
              "      <td>0.250000</td>\n",
              "      <td>0.000000</td>\n",
              "      <td>...</td>\n",
              "      <td>1.088164e+06</td>\n",
              "      <td>1.063783e+06</td>\n",
              "      <td>3.599483e+06</td>\n",
              "      <td>0.000000e+00</td>\n",
              "      <td>12.000000</td>\n",
              "      <td>0.000000e+00</td>\n",
              "      <td>2009.000000</td>\n",
              "      <td>1.000000e+05</td>\n",
              "      <td>1.000000</td>\n",
              "      <td>4.860000e+04</td>\n",
              "    </tr>\n",
              "    <tr>\n",
              "      <th>75%</th>\n",
              "      <td>6802.000000</td>\n",
              "      <td>22.000000</td>\n",
              "      <td>0.507860</td>\n",
              "      <td>0.000000</td>\n",
              "      <td>30.000000</td>\n",
              "      <td>1.725000e+04</td>\n",
              "      <td>1.200000e+05</td>\n",
              "      <td>0.857143</td>\n",
              "      <td>0.357143</td>\n",
              "      <td>0.000000</td>\n",
              "      <td>...</td>\n",
              "      <td>6.576243e+06</td>\n",
              "      <td>5.493839e+06</td>\n",
              "      <td>1.584222e+07</td>\n",
              "      <td>3.357474e+06</td>\n",
              "      <td>12.000000</td>\n",
              "      <td>4.520907e+06</td>\n",
              "      <td>2015.000000</td>\n",
              "      <td>5.000000e+05</td>\n",
              "      <td>1.000000</td>\n",
              "      <td>3.450000e+05</td>\n",
              "    </tr>\n",
              "    <tr>\n",
              "      <th>max</th>\n",
              "      <td>9045.000000</td>\n",
              "      <td>1265.000000</td>\n",
              "      <td>1.000000</td>\n",
              "      <td>36.983728</td>\n",
              "      <td>1605.000000</td>\n",
              "      <td>3.938590e+06</td>\n",
              "      <td>1.500000e+09</td>\n",
              "      <td>1.000000</td>\n",
              "      <td>0.792453</td>\n",
              "      <td>0.999990</td>\n",
              "      <td>...</td>\n",
              "      <td>2.009358e+10</td>\n",
              "      <td>1.293428e+09</td>\n",
              "      <td>6.426115e+09</td>\n",
              "      <td>3.366843e+09</td>\n",
              "      <td>12.000000</td>\n",
              "      <td>4.393536e+09</td>\n",
              "      <td>2020.000000</td>\n",
              "      <td>4.100000e+09</td>\n",
              "      <td>1.000000</td>\n",
              "      <td>1.974261e+09</td>\n",
              "    </tr>\n",
              "  </tbody>\n",
              "</table>\n",
              "<p>8 rows × 26 columns</p>\n",
              "</div>\n",
              "    <div class=\"colab-df-buttons\">\n",
              "\n",
              "  <div class=\"colab-df-container\">\n",
              "    <button class=\"colab-df-convert\" onclick=\"convertToInteractive('df-01a077dc-03d5-4603-84aa-a76d59360942')\"\n",
              "            title=\"Convert this dataframe to an interactive table.\"\n",
              "            style=\"display:none;\">\n",
              "\n",
              "  <svg xmlns=\"http://www.w3.org/2000/svg\" height=\"24px\" viewBox=\"0 -960 960 960\">\n",
              "    <path d=\"M120-120v-720h720v720H120Zm60-500h600v-160H180v160Zm220 220h160v-160H400v160Zm0 220h160v-160H400v160ZM180-400h160v-160H180v160Zm440 0h160v-160H620v160ZM180-180h160v-160H180v160Zm440 0h160v-160H620v160Z\"/>\n",
              "  </svg>\n",
              "    </button>\n",
              "\n",
              "  <style>\n",
              "    .colab-df-container {\n",
              "      display:flex;\n",
              "      gap: 12px;\n",
              "    }\n",
              "\n",
              "    .colab-df-convert {\n",
              "      background-color: #E8F0FE;\n",
              "      border: none;\n",
              "      border-radius: 50%;\n",
              "      cursor: pointer;\n",
              "      display: none;\n",
              "      fill: #1967D2;\n",
              "      height: 32px;\n",
              "      padding: 0 0 0 0;\n",
              "      width: 32px;\n",
              "    }\n",
              "\n",
              "    .colab-df-convert:hover {\n",
              "      background-color: #E2EBFA;\n",
              "      box-shadow: 0px 1px 2px rgba(60, 64, 67, 0.3), 0px 1px 3px 1px rgba(60, 64, 67, 0.15);\n",
              "      fill: #174EA6;\n",
              "    }\n",
              "\n",
              "    .colab-df-buttons div {\n",
              "      margin-bottom: 4px;\n",
              "    }\n",
              "\n",
              "    [theme=dark] .colab-df-convert {\n",
              "      background-color: #3B4455;\n",
              "      fill: #D2E3FC;\n",
              "    }\n",
              "\n",
              "    [theme=dark] .colab-df-convert:hover {\n",
              "      background-color: #434B5C;\n",
              "      box-shadow: 0px 1px 3px 1px rgba(0, 0, 0, 0.15);\n",
              "      filter: drop-shadow(0px 1px 2px rgba(0, 0, 0, 0.3));\n",
              "      fill: #FFFFFF;\n",
              "    }\n",
              "  </style>\n",
              "\n",
              "    <script>\n",
              "      const buttonEl =\n",
              "        document.querySelector('#df-01a077dc-03d5-4603-84aa-a76d59360942 button.colab-df-convert');\n",
              "      buttonEl.style.display =\n",
              "        google.colab.kernel.accessAllowed ? 'block' : 'none';\n",
              "\n",
              "      async function convertToInteractive(key) {\n",
              "        const element = document.querySelector('#df-01a077dc-03d5-4603-84aa-a76d59360942');\n",
              "        const dataTable =\n",
              "          await google.colab.kernel.invokeFunction('convertToInteractive',\n",
              "                                                    [key], {});\n",
              "        if (!dataTable) return;\n",
              "\n",
              "        const docLinkHtml = 'Like what you see? Visit the ' +\n",
              "          '<a target=\"_blank\" href=https://colab.research.google.com/notebooks/data_table.ipynb>data table notebook</a>'\n",
              "          + ' to learn more about interactive tables.';\n",
              "        element.innerHTML = '';\n",
              "        dataTable['output_type'] = 'display_data';\n",
              "        await google.colab.output.renderOutput(dataTable, element);\n",
              "        const docLink = document.createElement('div');\n",
              "        docLink.innerHTML = docLinkHtml;\n",
              "        element.appendChild(docLink);\n",
              "      }\n",
              "    </script>\n",
              "  </div>\n",
              "\n",
              "\n",
              "<div id=\"df-540a8554-1a8b-4cfb-b486-e7dced41cf6f\">\n",
              "  <button class=\"colab-df-quickchart\" onclick=\"quickchart('df-540a8554-1a8b-4cfb-b486-e7dced41cf6f')\"\n",
              "            title=\"Suggest charts\"\n",
              "            style=\"display:none;\">\n",
              "\n",
              "<svg xmlns=\"http://www.w3.org/2000/svg\" height=\"24px\"viewBox=\"0 0 24 24\"\n",
              "     width=\"24px\">\n",
              "    <g>\n",
              "        <path d=\"M19 3H5c-1.1 0-2 .9-2 2v14c0 1.1.9 2 2 2h14c1.1 0 2-.9 2-2V5c0-1.1-.9-2-2-2zM9 17H7v-7h2v7zm4 0h-2V7h2v10zm4 0h-2v-4h2v4z\"/>\n",
              "    </g>\n",
              "</svg>\n",
              "  </button>\n",
              "\n",
              "<style>\n",
              "  .colab-df-quickchart {\n",
              "      --bg-color: #E8F0FE;\n",
              "      --fill-color: #1967D2;\n",
              "      --hover-bg-color: #E2EBFA;\n",
              "      --hover-fill-color: #174EA6;\n",
              "      --disabled-fill-color: #AAA;\n",
              "      --disabled-bg-color: #DDD;\n",
              "  }\n",
              "\n",
              "  [theme=dark] .colab-df-quickchart {\n",
              "      --bg-color: #3B4455;\n",
              "      --fill-color: #D2E3FC;\n",
              "      --hover-bg-color: #434B5C;\n",
              "      --hover-fill-color: #FFFFFF;\n",
              "      --disabled-bg-color: #3B4455;\n",
              "      --disabled-fill-color: #666;\n",
              "  }\n",
              "\n",
              "  .colab-df-quickchart {\n",
              "    background-color: var(--bg-color);\n",
              "    border: none;\n",
              "    border-radius: 50%;\n",
              "    cursor: pointer;\n",
              "    display: none;\n",
              "    fill: var(--fill-color);\n",
              "    height: 32px;\n",
              "    padding: 0;\n",
              "    width: 32px;\n",
              "  }\n",
              "\n",
              "  .colab-df-quickchart:hover {\n",
              "    background-color: var(--hover-bg-color);\n",
              "    box-shadow: 0 1px 2px rgba(60, 64, 67, 0.3), 0 1px 3px 1px rgba(60, 64, 67, 0.15);\n",
              "    fill: var(--button-hover-fill-color);\n",
              "  }\n",
              "\n",
              "  .colab-df-quickchart-complete:disabled,\n",
              "  .colab-df-quickchart-complete:disabled:hover {\n",
              "    background-color: var(--disabled-bg-color);\n",
              "    fill: var(--disabled-fill-color);\n",
              "    box-shadow: none;\n",
              "  }\n",
              "\n",
              "  .colab-df-spinner {\n",
              "    border: 2px solid var(--fill-color);\n",
              "    border-color: transparent;\n",
              "    border-bottom-color: var(--fill-color);\n",
              "    animation:\n",
              "      spin 1s steps(1) infinite;\n",
              "  }\n",
              "\n",
              "  @keyframes spin {\n",
              "    0% {\n",
              "      border-color: transparent;\n",
              "      border-bottom-color: var(--fill-color);\n",
              "      border-left-color: var(--fill-color);\n",
              "    }\n",
              "    20% {\n",
              "      border-color: transparent;\n",
              "      border-left-color: var(--fill-color);\n",
              "      border-top-color: var(--fill-color);\n",
              "    }\n",
              "    30% {\n",
              "      border-color: transparent;\n",
              "      border-left-color: var(--fill-color);\n",
              "      border-top-color: var(--fill-color);\n",
              "      border-right-color: var(--fill-color);\n",
              "    }\n",
              "    40% {\n",
              "      border-color: transparent;\n",
              "      border-right-color: var(--fill-color);\n",
              "      border-top-color: var(--fill-color);\n",
              "    }\n",
              "    60% {\n",
              "      border-color: transparent;\n",
              "      border-right-color: var(--fill-color);\n",
              "    }\n",
              "    80% {\n",
              "      border-color: transparent;\n",
              "      border-right-color: var(--fill-color);\n",
              "      border-bottom-color: var(--fill-color);\n",
              "    }\n",
              "    90% {\n",
              "      border-color: transparent;\n",
              "      border-bottom-color: var(--fill-color);\n",
              "    }\n",
              "  }\n",
              "</style>\n",
              "\n",
              "  <script>\n",
              "    async function quickchart(key) {\n",
              "      const quickchartButtonEl =\n",
              "        document.querySelector('#' + key + ' button');\n",
              "      quickchartButtonEl.disabled = true;  // To prevent multiple clicks.\n",
              "      quickchartButtonEl.classList.add('colab-df-spinner');\n",
              "      try {\n",
              "        const charts = await google.colab.kernel.invokeFunction(\n",
              "            'suggestCharts', [key], {});\n",
              "      } catch (error) {\n",
              "        console.error('Error during call to suggestCharts:', error);\n",
              "      }\n",
              "      quickchartButtonEl.classList.remove('colab-df-spinner');\n",
              "      quickchartButtonEl.classList.add('colab-df-quickchart-complete');\n",
              "    }\n",
              "    (() => {\n",
              "      let quickchartButtonEl =\n",
              "        document.querySelector('#df-540a8554-1a8b-4cfb-b486-e7dced41cf6f button');\n",
              "      quickchartButtonEl.style.display =\n",
              "        google.colab.kernel.accessAllowed ? 'block' : 'none';\n",
              "    })();\n",
              "  </script>\n",
              "</div>\n",
              "\n",
              "    </div>\n",
              "  </div>\n"
            ],
            "application/vnd.google.colaboratory.intrinsic+json": {
              "type": "dataframe"
            }
          },
          "metadata": {},
          "execution_count": 5
        }
      ]
    },
    {
      "cell_type": "markdown",
      "source": [
        "# Função para analisar a pontualidade\n",
        "Define uma função que categoriza os valores da coluna scorePontualidade em três grupos: \"Confiável\" (acima de 0.8), \"Mediano\" (entre 0.6 e 0.8), e \"Não confiável\" (abaixo de 0.6).\n"
      ],
      "metadata": {
        "id": "gLYtFOhzykn5"
      }
    },
    {
      "cell_type": "code",
      "source": [
        "def analisar_pontualidade(score):\n",
        "    if score > 0.8:\n",
        "        return \"Confiável\"\n",
        "    elif score > 0.6:\n",
        "        return \"Mediano\"\n",
        "    else:\n",
        "        return \"Não confiável\""
      ],
      "metadata": {
        "id": "gcM_O1xAylbh"
      },
      "execution_count": null,
      "outputs": []
    },
    {
      "cell_type": "markdown",
      "source": [
        "# Aplicar a função analisar_pontualidade para cada valor na coluna 'scorePontualidade'\n",
        "\n",
        "Aplica a função analisar_pontualidade a cada valor da coluna scorePontualidade e cria uma nova coluna classificacao_pontualidade com os resultados."
      ],
      "metadata": {
        "id": "r3b3GYG_TeAE"
      }
    },
    {
      "cell_type": "code",
      "source": [
        "df['classificacao_pontualidade'] = df['scorePontualidade'].apply(analisar_pontualidade)"
      ],
      "metadata": {
        "id": "Qe3SBgWUypyB"
      },
      "execution_count": null,
      "outputs": []
    },
    {
      "cell_type": "markdown",
      "source": [
        "# Função para analisar o risco\n",
        "\n",
        "Define uma função que categoriza os valores da coluna percentualRisco em quatro grupos: \"Risco muito baixo\" (abaixo de 0.2), \"Risco baixo\" (entre 0.2 e 0.4), \"Risco médio\" (entre 0.4 e 0.6), e \"Risco alto\" (acima de 0.6)."
      ],
      "metadata": {
        "id": "JB1ciQ1cTmx4"
      }
    },
    {
      "cell_type": "code",
      "source": [
        "def analisar_risco(risco):\n",
        "    if risco < 0.2:\n",
        "        return \"Risco muito baixo\"\n",
        "    elif risco < 0.4:\n",
        "        return \"Risco baixo\"\n",
        "    elif risco < 0.6:\n",
        "        return \"Risco médio\"\n",
        "    else:\n",
        "        return \"Risco alto\""
      ],
      "metadata": {
        "id": "X9-FWStzys7R"
      },
      "execution_count": null,
      "outputs": []
    },
    {
      "cell_type": "markdown",
      "source": [
        "# Aplicar a função analisar_risco para cada valor na coluna 'percentualRisco'\n",
        "\n",
        "Aplica a função analisar_risco a cada valor da coluna percentualRisco e cria uma nova coluna classificacao_risco com os resultados."
      ],
      "metadata": {
        "id": "CnXsJDn2ywOJ"
      }
    },
    {
      "cell_type": "code",
      "source": [
        "df['classificacao_risco'] = df['percentualRisco'].apply(analisar_risco)"
      ],
      "metadata": {
        "id": "npSDRvZnyv2R"
      },
      "execution_count": null,
      "outputs": []
    },
    {
      "cell_type": "markdown",
      "source": [
        "# Exibir a classificação de pontualidade e risco\n",
        "\n",
        "Exibe as primeiras 51 linhas das colunas relacionadas à pontualidade e ao risco para verificar as classificações criadas.\n"
      ],
      "metadata": {
        "id": "8u9W-1uxyyja"
      }
    },
    {
      "cell_type": "code",
      "source": [
        "print(df[['scorePontualidade', 'classificacao_pontualidade', 'percentualRisco', 'classificacao_risco']].head(51))\n"
      ],
      "metadata": {
        "colab": {
          "base_uri": "https://localhost:8080/"
        },
        "id": "ufjOkGimyy25",
        "outputId": "57928423-1fa1-415f-84fa-0914c4cad33c"
      },
      "execution_count": null,
      "outputs": [
        {
          "output_type": "stream",
          "name": "stdout",
          "text": [
            "    scorePontualidade classificacao_pontualidade  percentualRisco  \\\n",
            "0            1.000000                  Confiável         0.283019   \n",
            "1            0.000000              Não confiável         0.000000   \n",
            "2            1.000000                  Confiável         0.283019   \n",
            "3            0.000000              Não confiável         0.603774   \n",
            "4            1.000000                  Confiável         0.169811   \n",
            "5            0.000000              Não confiável         0.377358   \n",
            "6            0.000000              Não confiável         0.415094   \n",
            "7            1.000000                  Confiável         0.056604   \n",
            "8            1.000000                  Confiável         0.113208   \n",
            "9            0.831590                  Confiável         0.000000   \n",
            "10           0.000000              Não confiável         0.396226   \n",
            "11           0.000000              Não confiável         0.415094   \n",
            "12           0.000000              Não confiável         0.490566   \n",
            "13           0.000000              Não confiável         0.000000   \n",
            "14           1.000000                  Confiável         0.207547   \n",
            "15           0.000000              Não confiável         0.396226   \n",
            "16           0.000000              Não confiável         0.377358   \n",
            "17           1.000000                  Confiável         0.000000   \n",
            "18           0.000000              Não confiável         0.301887   \n",
            "19           0.999976                  Confiável         0.113208   \n",
            "20           1.000000                  Confiável         0.433962   \n",
            "21           0.691342                    Mediano         0.528302   \n",
            "22           0.991829                  Confiável         0.320755   \n",
            "23           0.769472                    Mediano         0.433962   \n",
            "24           0.000000              Não confiável         0.000000   \n",
            "25           1.000000                  Confiável         0.264151   \n",
            "26           1.000000                  Confiável         0.000000   \n",
            "27           0.000000              Não confiável         0.433962   \n",
            "28           1.000000                  Confiável         0.264151   \n",
            "29           1.000000                  Confiável         0.000000   \n",
            "30           0.000000              Não confiável         0.000000   \n",
            "31           1.000000                  Confiável         0.396226   \n",
            "32           1.000000                  Confiável         0.396226   \n",
            "33           0.000000              Não confiável         0.603774   \n",
            "34           0.000000              Não confiável         0.000000   \n",
            "35           1.000000                  Confiável         0.000000   \n",
            "36           1.000000                  Confiável         0.490566   \n",
            "37           1.000000                  Confiável         0.283019   \n",
            "38           1.000000                  Confiável         0.264151   \n",
            "39           0.000000              Não confiável         0.660377   \n",
            "40           0.000000              Não confiável         0.150943   \n",
            "41           1.000000                  Confiável         0.509434   \n",
            "42           0.000000              Não confiável         0.283019   \n",
            "43           1.000000                  Confiável         0.169811   \n",
            "44           0.000000              Não confiável         0.490566   \n",
            "45           1.000000                  Confiável         0.320755   \n",
            "46           1.000000                  Confiável         0.547170   \n",
            "47           1.000000                  Confiável         0.490566   \n",
            "48           1.000000                  Confiável         0.301887   \n",
            "49           0.000000              Não confiável         0.377358   \n",
            "50           1.000000                  Confiável         0.471698   \n",
            "\n",
            "   classificacao_risco  \n",
            "0          Risco baixo  \n",
            "1    Risco muito baixo  \n",
            "2          Risco baixo  \n",
            "3           Risco alto  \n",
            "4    Risco muito baixo  \n",
            "5          Risco baixo  \n",
            "6          Risco médio  \n",
            "7    Risco muito baixo  \n",
            "8    Risco muito baixo  \n",
            "9    Risco muito baixo  \n",
            "10         Risco baixo  \n",
            "11         Risco médio  \n",
            "12         Risco médio  \n",
            "13   Risco muito baixo  \n",
            "14         Risco baixo  \n",
            "15         Risco baixo  \n",
            "16         Risco baixo  \n",
            "17   Risco muito baixo  \n",
            "18         Risco baixo  \n",
            "19   Risco muito baixo  \n",
            "20         Risco médio  \n",
            "21         Risco médio  \n",
            "22         Risco baixo  \n",
            "23         Risco médio  \n",
            "24   Risco muito baixo  \n",
            "25         Risco baixo  \n",
            "26   Risco muito baixo  \n",
            "27         Risco médio  \n",
            "28         Risco baixo  \n",
            "29   Risco muito baixo  \n",
            "30   Risco muito baixo  \n",
            "31         Risco baixo  \n",
            "32         Risco baixo  \n",
            "33          Risco alto  \n",
            "34   Risco muito baixo  \n",
            "35   Risco muito baixo  \n",
            "36         Risco médio  \n",
            "37         Risco baixo  \n",
            "38         Risco baixo  \n",
            "39          Risco alto  \n",
            "40   Risco muito baixo  \n",
            "41         Risco médio  \n",
            "42         Risco baixo  \n",
            "43   Risco muito baixo  \n",
            "44         Risco médio  \n",
            "45         Risco baixo  \n",
            "46         Risco médio  \n",
            "47         Risco médio  \n",
            "48         Risco baixo  \n",
            "49         Risco baixo  \n",
            "50         Risco médio  \n"
          ]
        }
      ]
    },
    {
      "cell_type": "markdown",
      "source": [
        "# Verificando a média da coluna maiorAtraso\n",
        "\n",
        "Calcula e imprime a média dos valores da coluna maiorAtraso, que representa o maior atraso no pagamento de crédito."
      ],
      "metadata": {
        "id": "SFx34O2cy1tp"
      }
    },
    {
      "cell_type": "code",
      "source": [
        "media_coluna = df['maiorAtraso'].mean()\n",
        "print(f\"A média da coluna maiorAtraso é: {media_coluna:.0f}\")\n"
      ],
      "metadata": {
        "colab": {
          "base_uri": "https://localhost:8080/"
        },
        "id": "2C2dhE5xy1_5",
        "outputId": "0262d0a4-9a8c-4ce9-96aa-77ce12a6c549"
      },
      "execution_count": null,
      "outputs": [
        {
          "output_type": "stream",
          "name": "stdout",
          "text": [
            "A média da coluna maiorAtraso é: 25\n"
          ]
        }
      ]
    },
    {
      "cell_type": "markdown",
      "source": [
        "# Função para definir o grupo de confiabilidade\n",
        "\n",
        "Define uma função que determina o grupo de confiabilidade de um cliente com base nas classificações de pontualidade, risco, e maior atraso. Clientes são considerados \"Confiáveis\" se têm classificações de pontualidade \"Mediano\" ou \"Confiável\", classificações de risco até \"Risco médio\", e maior atraso inferior a 26 dias."
      ],
      "metadata": {
        "id": "m0hG2HTjy5Nx"
      }
    },
    {
      "cell_type": "code",
      "source": [
        "def definir_grupo(row):\n",
        "    if row['classificacao_pontualidade'] in [\"Mediano\", \"Confiável\"] and row['classificacao_risco'] in [\"Risco muito baixo\", \"Risco baixo\", \"Risco médio\"] and row['maiorAtraso'] < 26:\n",
        "        return \"Confiável\"\n",
        "    else:\n",
        "        return \"Não confiável\""
      ],
      "metadata": {
        "id": "OTQ3JCAWy5yJ"
      },
      "execution_count": null,
      "outputs": []
    },
    {
      "cell_type": "markdown",
      "source": [
        "# Adicionar a coluna 'grupos' com base nos critérios especificados\n",
        "\n",
        "Aplica a função definir_grupo ao DataFrame e adiciona uma nova coluna grupos com os resultados, classificando os clientes como \"Confiáveis\" ou \"Não confiáveis\".\n"
      ],
      "metadata": {
        "id": "pksx_nHiy71B"
      }
    },
    {
      "cell_type": "code",
      "source": [
        "df['grupos'] = df.apply(definir_grupo, axis=1)"
      ],
      "metadata": {
        "id": "6o1DUcZGy8I5"
      },
      "execution_count": null,
      "outputs": []
    },
    {
      "cell_type": "markdown",
      "source": [
        "# Exibir as primeiras 51 linhas das colunas relevantes\n",
        "\n",
        "Exibe as primeiras 51 linhas das colunas relacionadas à pontualidade, risco, maior atraso, e grupos para verificar as classificações.\n"
      ],
      "metadata": {
        "id": "pu_gTaF9y93x"
      }
    },
    {
      "cell_type": "code",
      "source": [
        "print(df[['scorePontualidade', 'percentualRisco', 'maiorAtraso', 'grupos']].head(51))\n"
      ],
      "metadata": {
        "colab": {
          "base_uri": "https://localhost:8080/"
        },
        "id": "14RopK94y-JR",
        "outputId": "f08e371f-8e2d-4014-a4ab-963e5553c73f"
      },
      "execution_count": null,
      "outputs": [
        {
          "output_type": "stream",
          "name": "stdout",
          "text": [
            "    scorePontualidade  percentualRisco  maiorAtraso         grupos\n",
            "0            1.000000         0.283019            0      Confiável\n",
            "1            0.000000         0.000000            0  Não confiável\n",
            "2            1.000000         0.283019            4      Confiável\n",
            "3            0.000000         0.603774           20  Não confiável\n",
            "4            1.000000         0.169811           20      Confiável\n",
            "5            0.000000         0.377358            0  Não confiável\n",
            "6            0.000000         0.415094           16  Não confiável\n",
            "7            1.000000         0.056604            4      Confiável\n",
            "8            1.000000         0.113208           43  Não confiável\n",
            "9            0.831590         0.000000           24      Confiável\n",
            "10           0.000000         0.396226            7  Não confiável\n",
            "11           0.000000         0.415094           26  Não confiável\n",
            "12           0.000000         0.490566            3  Não confiável\n",
            "13           0.000000         0.000000           52  Não confiável\n",
            "14           1.000000         0.207547            4      Confiável\n",
            "15           0.000000         0.396226           28  Não confiável\n",
            "16           0.000000         0.377358           19  Não confiável\n",
            "17           1.000000         0.000000            2      Confiável\n",
            "18           0.000000         0.301887            4  Não confiável\n",
            "19           0.999976         0.113208            5      Confiável\n",
            "20           1.000000         0.433962           40  Não confiável\n",
            "21           0.691342         0.528302           60  Não confiável\n",
            "22           0.991829         0.320755           18      Confiável\n",
            "23           0.769472         0.433962           35  Não confiável\n",
            "24           0.000000         0.000000            6  Não confiável\n",
            "25           1.000000         0.264151           14      Confiável\n",
            "26           1.000000         0.000000           23      Confiável\n",
            "27           0.000000         0.433962            0  Não confiável\n",
            "28           1.000000         0.264151            4      Confiável\n",
            "29           1.000000         0.000000           11      Confiável\n",
            "30           0.000000         0.000000            0  Não confiável\n",
            "31           1.000000         0.396226            9      Confiável\n",
            "32           1.000000         0.396226            0      Confiável\n",
            "33           0.000000         0.603774          807  Não confiável\n",
            "34           0.000000         0.000000           13  Não confiável\n",
            "35           1.000000         0.000000            0      Confiável\n",
            "36           1.000000         0.490566          135  Não confiável\n",
            "37           1.000000         0.283019            3      Confiável\n",
            "38           1.000000         0.264151            4      Confiável\n",
            "39           0.000000         0.660377           17  Não confiável\n",
            "40           0.000000         0.150943            3  Não confiável\n",
            "41           1.000000         0.509434            0      Confiável\n",
            "42           0.000000         0.283019            2  Não confiável\n",
            "43           1.000000         0.169811            0      Confiável\n",
            "44           0.000000         0.490566            2  Não confiável\n",
            "45           1.000000         0.320755           43  Não confiável\n",
            "46           1.000000         0.547170           10      Confiável\n",
            "47           1.000000         0.490566            3      Confiável\n",
            "48           1.000000         0.301887            3      Confiável\n",
            "49           0.000000         0.377358            0  Não confiável\n",
            "50           1.000000         0.471698            6      Confiável\n"
          ]
        }
      ]
    },
    {
      "cell_type": "markdown",
      "source": [
        "# Visualizando a distribuição dos grupos\n",
        "\n",
        "Cria um gráfico de barras para visualizar a distribuição dos grupos \"Confiável\" e \"Não confiável\" no DataFrame."
      ],
      "metadata": {
        "id": "xQpNLoGnzAy5"
      }
    },
    {
      "cell_type": "code",
      "source": [
        "plt.figure(figsize=(8, 6))\n",
        "df['grupos'].value_counts().plot(kind='bar', color=['skyblue', 'salmon'])\n",
        "plt.title('Distribuição dos Grupos')\n",
        "plt.xlabel('Grupos')\n",
        "plt.ylabel('Contagem')\n",
        "plt.xticks(rotation=0)\n",
        "plt.show()"
      ],
      "metadata": {
        "colab": {
          "base_uri": "https://localhost:8080/",
          "height": 240
        },
        "id": "xW13SOJYzBJC",
        "outputId": "085e2199-596a-4911-f88b-175a6bf2b643"
      },
      "execution_count": 2,
      "outputs": [
        {
          "output_type": "error",
          "ename": "NameError",
          "evalue": "name 'df' is not defined",
          "traceback": [
            "\u001b[0;31m---------------------------------------------------------------------------\u001b[0m",
            "\u001b[0;31mNameError\u001b[0m                                 Traceback (most recent call last)",
            "\u001b[0;32m<ipython-input-2-732d51fcc1a5>\u001b[0m in \u001b[0;36m<cell line: 2>\u001b[0;34m()\u001b[0m\n\u001b[1;32m      1\u001b[0m \u001b[0mplt\u001b[0m\u001b[0;34m.\u001b[0m\u001b[0mfigure\u001b[0m\u001b[0;34m(\u001b[0m\u001b[0mfigsize\u001b[0m\u001b[0;34m=\u001b[0m\u001b[0;34m(\u001b[0m\u001b[0;36m8\u001b[0m\u001b[0;34m,\u001b[0m \u001b[0;36m6\u001b[0m\u001b[0;34m)\u001b[0m\u001b[0;34m)\u001b[0m\u001b[0;34m\u001b[0m\u001b[0;34m\u001b[0m\u001b[0m\n\u001b[0;32m----> 2\u001b[0;31m \u001b[0mdf\u001b[0m\u001b[0;34m[\u001b[0m\u001b[0;34m'grupos'\u001b[0m\u001b[0;34m]\u001b[0m\u001b[0;34m.\u001b[0m\u001b[0mvalue_counts\u001b[0m\u001b[0;34m(\u001b[0m\u001b[0;34m)\u001b[0m\u001b[0;34m.\u001b[0m\u001b[0mplot\u001b[0m\u001b[0;34m(\u001b[0m\u001b[0mkind\u001b[0m\u001b[0;34m=\u001b[0m\u001b[0;34m'bar'\u001b[0m\u001b[0;34m,\u001b[0m \u001b[0mcolor\u001b[0m\u001b[0;34m=\u001b[0m\u001b[0;34m[\u001b[0m\u001b[0;34m'skyblue'\u001b[0m\u001b[0;34m,\u001b[0m \u001b[0;34m'salmon'\u001b[0m\u001b[0;34m]\u001b[0m\u001b[0;34m)\u001b[0m\u001b[0;34m\u001b[0m\u001b[0;34m\u001b[0m\u001b[0m\n\u001b[0m\u001b[1;32m      3\u001b[0m \u001b[0mplt\u001b[0m\u001b[0;34m.\u001b[0m\u001b[0mtitle\u001b[0m\u001b[0;34m(\u001b[0m\u001b[0;34m'Distribuição dos Grupos'\u001b[0m\u001b[0;34m)\u001b[0m\u001b[0;34m\u001b[0m\u001b[0;34m\u001b[0m\u001b[0m\n\u001b[1;32m      4\u001b[0m \u001b[0mplt\u001b[0m\u001b[0;34m.\u001b[0m\u001b[0mxlabel\u001b[0m\u001b[0;34m(\u001b[0m\u001b[0;34m'Grupos'\u001b[0m\u001b[0;34m)\u001b[0m\u001b[0;34m\u001b[0m\u001b[0;34m\u001b[0m\u001b[0m\n\u001b[1;32m      5\u001b[0m \u001b[0mplt\u001b[0m\u001b[0;34m.\u001b[0m\u001b[0mylabel\u001b[0m\u001b[0;34m(\u001b[0m\u001b[0;34m'Contagem'\u001b[0m\u001b[0;34m)\u001b[0m\u001b[0;34m\u001b[0m\u001b[0;34m\u001b[0m\u001b[0m\n",
            "\u001b[0;31mNameError\u001b[0m: name 'df' is not defined"
          ]
        },
        {
          "output_type": "display_data",
          "data": {
            "text/plain": [
              "<Figure size 800x600 with 0 Axes>"
            ]
          },
          "metadata": {}
        }
      ]
    },
    {
      "cell_type": "markdown",
      "source": [
        "# Preparando os dados para o modelo de Regressão Logística\n",
        "\n",
        "Seleciona as colunas scorePontualidade, percentualRisco e maiorAtraso como features e a coluna grupos como target para treinar o modelo de regressão logística."
      ],
      "metadata": {
        "id": "VatK4fivzCop"
      }
    },
    {
      "cell_type": "markdown",
      "source": [
        "# Inicializando e treinando o modelo de Regressão Logística\n",
        "\n"
      ],
      "metadata": {
        "id": "0SR7Lp_2Uw8N"
      }
    },
    {
      "cell_type": "code",
      "source": [
        "features = ['scorePontualidade', 'percentualRisco', 'maiorAtraso']\n",
        "target = 'grupos'\n"
      ],
      "metadata": {
        "id": "Io_3juDXzEZZ"
      },
      "execution_count": null,
      "outputs": []
    },
    {
      "cell_type": "markdown",
      "source": [
        "# Fazendo previsões no conjunto de teste\n",
        "\n",
        "Usa o modelo treinado para fazer previsões no conjunto de teste."
      ],
      "metadata": {
        "id": "ohm-LnmwzGDB"
      }
    },
    {
      "cell_type": "markdown",
      "source": [],
      "metadata": {
        "id": "SZ8qtIjSU4JZ"
      }
    },
    {
      "cell_type": "code",
      "source": [
        "X = df[features]\n",
        "y = df[target]\n"
      ],
      "metadata": {
        "id": "AupzsVFRzGhB"
      },
      "execution_count": null,
      "outputs": []
    },
    {
      "cell_type": "markdown",
      "source": [
        "# Dividindo os dados em conjuntos de treinamento e teste\n",
        "\n",
        "Divide os dados em conjuntos de treinamento e teste usando train_test_split, com 50% dos dados em cada conjunto e um estado aleatório para reprodutibilidade."
      ],
      "metadata": {
        "id": "n44ILDEEzKSZ"
      }
    },
    {
      "cell_type": "code",
      "source": [
        "X_train, X_test, y_train, y_test = train_test_split(X, y, test_size=0.5, random_state=43)"
      ],
      "metadata": {
        "id": "WjXrjOndzJ0Z"
      },
      "execution_count": null,
      "outputs": []
    },
    {
      "cell_type": "markdown",
      "source": [
        "# Inicializando e treinando o modelo de Regressão Logística\n",
        "\n",
        "Inicializa um modelo de Regressão Logística com uma regularização específica (C=0.1) e treina o modelo com o conjunto de treinamento."
      ],
      "metadata": {
        "id": "w_zM5vj1zN_i"
      }
    },
    {
      "cell_type": "code",
      "source": [
        "model = LogisticRegression(C=0.1)  # Ajustando a regularização para tornar o modelo menos flexível\n",
        "model.fit(X_train, y_train)"
      ],
      "metadata": {
        "colab": {
          "base_uri": "https://localhost:8080/",
          "height": 75
        },
        "id": "_IEJ1hH7zOcR",
        "outputId": "e33c74f0-1fed-4ddb-93aa-f83bdaed039b"
      },
      "execution_count": null,
      "outputs": [
        {
          "output_type": "execute_result",
          "data": {
            "text/plain": [
              "LogisticRegression(C=0.1)"
            ],
            "text/html": [
              "<style>#sk-container-id-1 {color: black;background-color: white;}#sk-container-id-1 pre{padding: 0;}#sk-container-id-1 div.sk-toggleable {background-color: white;}#sk-container-id-1 label.sk-toggleable__label {cursor: pointer;display: block;width: 100%;margin-bottom: 0;padding: 0.3em;box-sizing: border-box;text-align: center;}#sk-container-id-1 label.sk-toggleable__label-arrow:before {content: \"▸\";float: left;margin-right: 0.25em;color: #696969;}#sk-container-id-1 label.sk-toggleable__label-arrow:hover:before {color: black;}#sk-container-id-1 div.sk-estimator:hover label.sk-toggleable__label-arrow:before {color: black;}#sk-container-id-1 div.sk-toggleable__content {max-height: 0;max-width: 0;overflow: hidden;text-align: left;background-color: #f0f8ff;}#sk-container-id-1 div.sk-toggleable__content pre {margin: 0.2em;color: black;border-radius: 0.25em;background-color: #f0f8ff;}#sk-container-id-1 input.sk-toggleable__control:checked~div.sk-toggleable__content {max-height: 200px;max-width: 100%;overflow: auto;}#sk-container-id-1 input.sk-toggleable__control:checked~label.sk-toggleable__label-arrow:before {content: \"▾\";}#sk-container-id-1 div.sk-estimator input.sk-toggleable__control:checked~label.sk-toggleable__label {background-color: #d4ebff;}#sk-container-id-1 div.sk-label input.sk-toggleable__control:checked~label.sk-toggleable__label {background-color: #d4ebff;}#sk-container-id-1 input.sk-hidden--visually {border: 0;clip: rect(1px 1px 1px 1px);clip: rect(1px, 1px, 1px, 1px);height: 1px;margin: -1px;overflow: hidden;padding: 0;position: absolute;width: 1px;}#sk-container-id-1 div.sk-estimator {font-family: monospace;background-color: #f0f8ff;border: 1px dotted black;border-radius: 0.25em;box-sizing: border-box;margin-bottom: 0.5em;}#sk-container-id-1 div.sk-estimator:hover {background-color: #d4ebff;}#sk-container-id-1 div.sk-parallel-item::after {content: \"\";width: 100%;border-bottom: 1px solid gray;flex-grow: 1;}#sk-container-id-1 div.sk-label:hover label.sk-toggleable__label {background-color: #d4ebff;}#sk-container-id-1 div.sk-serial::before {content: \"\";position: absolute;border-left: 1px solid gray;box-sizing: border-box;top: 0;bottom: 0;left: 50%;z-index: 0;}#sk-container-id-1 div.sk-serial {display: flex;flex-direction: column;align-items: center;background-color: white;padding-right: 0.2em;padding-left: 0.2em;position: relative;}#sk-container-id-1 div.sk-item {position: relative;z-index: 1;}#sk-container-id-1 div.sk-parallel {display: flex;align-items: stretch;justify-content: center;background-color: white;position: relative;}#sk-container-id-1 div.sk-item::before, #sk-container-id-1 div.sk-parallel-item::before {content: \"\";position: absolute;border-left: 1px solid gray;box-sizing: border-box;top: 0;bottom: 0;left: 50%;z-index: -1;}#sk-container-id-1 div.sk-parallel-item {display: flex;flex-direction: column;z-index: 1;position: relative;background-color: white;}#sk-container-id-1 div.sk-parallel-item:first-child::after {align-self: flex-end;width: 50%;}#sk-container-id-1 div.sk-parallel-item:last-child::after {align-self: flex-start;width: 50%;}#sk-container-id-1 div.sk-parallel-item:only-child::after {width: 0;}#sk-container-id-1 div.sk-dashed-wrapped {border: 1px dashed gray;margin: 0 0.4em 0.5em 0.4em;box-sizing: border-box;padding-bottom: 0.4em;background-color: white;}#sk-container-id-1 div.sk-label label {font-family: monospace;font-weight: bold;display: inline-block;line-height: 1.2em;}#sk-container-id-1 div.sk-label-container {text-align: center;}#sk-container-id-1 div.sk-container {/* jupyter's `normalize.less` sets `[hidden] { display: none; }` but bootstrap.min.css set `[hidden] { display: none !important; }` so we also need the `!important` here to be able to override the default hidden behavior on the sphinx rendered scikit-learn.org. See: https://github.com/scikit-learn/scikit-learn/issues/21755 */display: inline-block !important;position: relative;}#sk-container-id-1 div.sk-text-repr-fallback {display: none;}</style><div id=\"sk-container-id-1\" class=\"sk-top-container\"><div class=\"sk-text-repr-fallback\"><pre>LogisticRegression(C=0.1)</pre><b>In a Jupyter environment, please rerun this cell to show the HTML representation or trust the notebook. <br />On GitHub, the HTML representation is unable to render, please try loading this page with nbviewer.org.</b></div><div class=\"sk-container\" hidden><div class=\"sk-item\"><div class=\"sk-estimator sk-toggleable\"><input class=\"sk-toggleable__control sk-hidden--visually\" id=\"sk-estimator-id-1\" type=\"checkbox\" checked><label for=\"sk-estimator-id-1\" class=\"sk-toggleable__label sk-toggleable__label-arrow\">LogisticRegression</label><div class=\"sk-toggleable__content\"><pre>LogisticRegression(C=0.1)</pre></div></div></div></div></div>"
            ]
          },
          "metadata": {},
          "execution_count": 19
        }
      ]
    },
    {
      "cell_type": "markdown",
      "source": [],
      "metadata": {
        "id": "YncY_cGTzQXZ"
      }
    },
    {
      "cell_type": "code",
      "source": [
        "y_pred = model.predict(X_test)"
      ],
      "metadata": {
        "id": "PyRyvfDEzQqR"
      },
      "execution_count": null,
      "outputs": []
    },
    {
      "cell_type": "markdown",
      "source": [
        "# Avaliando a acurácia do modelo\n",
        "\n",
        "Calcula e imprime a acurácia do modelo e o relatório de classificação, que inclui métricas como precisão, recall, e F1-score."
      ],
      "metadata": {
        "id": "KA2Uzh3MzSgJ"
      }
    },
    {
      "cell_type": "code",
      "source": [
        "accuracy = accuracy_score(y_test, y_pred)\n",
        "classification_rep = classification_report(y_test, y_pred)\n",
        "\n",
        "print(\"Acurácia do modelo:\", accuracy)\n",
        "print(\"Relatório de Classificação:\\n\", classification_rep)"
      ],
      "metadata": {
        "colab": {
          "base_uri": "https://localhost:8080/"
        },
        "id": "kM4QKV5jzS65",
        "outputId": "f59175e9-9dbc-4c72-f9d8-7856dd26d92a"
      },
      "execution_count": null,
      "outputs": [
        {
          "output_type": "stream",
          "name": "stdout",
          "text": [
            "Acurácia do modelo: 0.9759304657900602\n",
            "Relatório de Classificação:\n",
            "                precision    recall  f1-score   support\n",
            "\n",
            "    Confiável       0.97      0.99      0.98      2872\n",
            "Não confiável       0.98      0.95      0.97      1615\n",
            "\n",
            "     accuracy                           0.98      4487\n",
            "    macro avg       0.98      0.97      0.97      4487\n",
            " weighted avg       0.98      0.98      0.98      4487\n",
            "\n"
          ]
        }
      ]
    },
    {
      "cell_type": "markdown",
      "source": [],
      "metadata": {
        "id": "QnJOeAaYzbRh"
      }
    },
    {
      "cell_type": "code",
      "source": [
        "conf_mat = confusion_matrix(y_test, y_pred)\n",
        "plt.figure(figsize=(8, 6))\n",
        "sns.heatmap(conf_mat, annot=True, fmt=\"d\", cmap=\"Blues\", xticklabels=model.classes_, yticklabels=model.classes_)\n",
        "plt.title(\"Matriz de Confusão\")\n",
        "plt.xlabel('Valores Preditos')\n",
        "plt.ylabel('Valores Reais')\n",
        "plt.show()\n"
      ],
      "metadata": {
        "colab": {
          "base_uri": "https://localhost:8080/",
          "height": 564
        },
        "id": "4EvOIPcszbmZ",
        "outputId": "a1c05be5-4336-4d57-94d2-096925fb834d"
      },
      "execution_count": null,
      "outputs": [
        {
          "output_type": "display_data",
          "data": {
            "text/plain": [
              "<Figure size 800x600 with 2 Axes>"
            ],
            "image/png": "[encoded data removed]"
          },
          "metadata": {}
        }
      ]
    },
    {
      "cell_type": "markdown",
      "source": [],
      "metadata": {
        "id": "5DisY_3vzfPZ"
      }
    },
    {
      "cell_type": "code",
      "source": [
        "def prever_grupo(model, features):\n",
        "    grupo_predito = model.predict([features])\n",
        "    return grupo_predito[0]"
      ],
      "metadata": {
        "id": "lrEtCSSOzfoZ"
      },
      "execution_count": null,
      "outputs": []
    },
    {
      "cell_type": "markdown",
      "source": [],
      "metadata": {
        "id": "ZqUwmRXlziNi"
      }
    },
    {
      "cell_type": "code",
      "source": [
        "novos_clientes = [\n",
        "    [0.75, 0.2, 10],  # scorePontualidade = 0.75, percentualRisco = 0.2, maiorAtraso = 10\n",
        "    [0.9, 0.1, 5],    # scorePontualidade = 0.9, percentualRisco = 0.1, maiorAtraso = 5\n",
        "    [0.4, 0.6, 20],   # scorePontualidade = 0.4, percentualRisco = 0.6, maiorAtraso = 20\n",
        "    [0.6, 0.3, 15],   # scorePontualidade = 0.6, percentualRisco = 0.3, maiorAtraso = 15\n",
        "    [0.8, 0.5, 2],    # scorePontualidade = 0.8, percentualRisco = 0.5, maiorAtraso = 2\n",
        "]\n"
      ],
      "metadata": {
        "id": "4XBfTvE-zihp"
      },
      "execution_count": null,
      "outputs": []
    },
    {
      "cell_type": "markdown",
      "source": [],
      "metadata": {
        "id": "a6yvUc2OzmH5"
      }
    },
    {
      "cell_type": "code",
      "source": [
        "grupos_previstos = [prever_grupo(model, cliente) for cliente in novos_clientes]\n",
        "\n",
        "grupos_previstos"
      ],
      "metadata": {
        "colab": {
          "base_uri": "https://localhost:8080/"
        },
        "id": "cMzP-zcYzmeZ",
        "outputId": "3f674caf-7404-48f2-a084-1e0ee1e36e6e"
      },
      "execution_count": null,
      "outputs": [
        {
          "output_type": "stream",
          "name": "stderr",
          "text": [
            "/usr/local/lib/python3.10/dist-packages/sklearn/base.py:439: UserWarning: X does not have valid feature names, but LogisticRegression was fitted with feature names\n",
            "  warnings.warn(\n",
            "/usr/local/lib/python3.10/dist-packages/sklearn/base.py:439: UserWarning: X does not have valid feature names, but LogisticRegression was fitted with feature names\n",
            "  warnings.warn(\n",
            "/usr/local/lib/python3.10/dist-packages/sklearn/base.py:439: UserWarning: X does not have valid feature names, but LogisticRegression was fitted with feature names\n",
            "  warnings.warn(\n",
            "/usr/local/lib/python3.10/dist-packages/sklearn/base.py:439: UserWarning: X does not have valid feature names, but LogisticRegression was fitted with feature names\n",
            "  warnings.warn(\n",
            "/usr/local/lib/python3.10/dist-packages/sklearn/base.py:439: UserWarning: X does not have valid feature names, but LogisticRegression was fitted with feature names\n",
            "  warnings.warn(\n"
          ]
        },
        {
          "output_type": "execute_result",
          "data": {
            "text/plain": [
              "['Confiável', 'Confiável', 'Não confiável', 'Não confiável', 'Confiável']"
            ]
          },
          "metadata": {},
          "execution_count": 26
        }
      ]
    }
  ]
}